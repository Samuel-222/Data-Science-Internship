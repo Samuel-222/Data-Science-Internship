{
  "nbformat": 4,
  "nbformat_minor": 0,
  "metadata": {
    "colab": {
      "provenance": []
    },
    "kernelspec": {
      "name": "python3",
      "display_name": "Python 3"
    },
    "language_info": {
      "name": "python"
    }
  },
  "cells": [
    {
      "cell_type": "code",
      "execution_count": 1,
      "metadata": {
        "id": "PEmOdwhNPy-x"
      },
      "outputs": [],
      "source": [
        "import pandas as pd\n",
        "import pandas as pd\n",
        "from sklearn.linear_model import LogisticRegression\n",
        "from sklearn.model_selection import train_test_split\n",
        "from sklearn.metrics import accuracy_score\n",
        "from sklearn.metrics import classification_report\n",
        "from sklearn.metrics import confusion_matrix\n"
      ]
    },
    {
      "cell_type": "code",
      "source": [
        "df = pd.read_csv(\"data (2).csv\")\n",
        "print(df.head())\n",
        "print(df.isnull().sum())"
      ],
      "metadata": {
        "colab": {
          "base_uri": "https://localhost:8080/"
        },
        "id": "g5eGqU6_Qdi_",
        "outputId": "865ee80f-0668-4d93-df11-346358b569f6"
      },
      "execution_count": 2,
      "outputs": [
        {
          "output_type": "stream",
          "name": "stdout",
          "text": [
            "   Bankrupt?   ROA(C) before interest and depreciation before interest  \\\n",
            "0          1                                           0.370594          \n",
            "1          1                                           0.464291          \n",
            "2          1                                           0.426071          \n",
            "3          1                                           0.399844          \n",
            "4          1                                           0.465022          \n",
            "\n",
            "    ROA(A) before interest and % after tax  \\\n",
            "0                                 0.424389   \n",
            "1                                 0.538214   \n",
            "2                                 0.499019   \n",
            "3                                 0.451265   \n",
            "4                                 0.538432   \n",
            "\n",
            "    ROA(B) before interest and depreciation after tax  \\\n",
            "0                                           0.405750    \n",
            "1                                           0.516730    \n",
            "2                                           0.472295    \n",
            "3                                           0.457733    \n",
            "4                                           0.522298    \n",
            "\n",
            "    Operating Gross Margin   Realized Sales Gross Margin  \\\n",
            "0                 0.601457                      0.601457   \n",
            "1                 0.610235                      0.610235   \n",
            "2                 0.601450                      0.601364   \n",
            "3                 0.583541                      0.583541   \n",
            "4                 0.598783                      0.598783   \n",
            "\n",
            "    Operating Profit Rate   Pre-tax net Interest Rate  \\\n",
            "0                0.998969                    0.796887   \n",
            "1                0.998946                    0.797380   \n",
            "2                0.998857                    0.796403   \n",
            "3                0.998700                    0.796967   \n",
            "4                0.998973                    0.797366   \n",
            "\n",
            "    After-tax net Interest Rate   Non-industry income and expenditure/revenue  \\\n",
            "0                      0.808809                                      0.302646   \n",
            "1                      0.809301                                      0.303556   \n",
            "2                      0.808388                                      0.302035   \n",
            "3                      0.808966                                      0.303350   \n",
            "4                      0.809304                                      0.303475   \n",
            "\n",
            "   ...   Net Income to Total Assets   Total assets to GNP price  \\\n",
            "0  ...                     0.716845                    0.009219   \n",
            "1  ...                     0.795297                    0.008323   \n",
            "2  ...                     0.774670                    0.040003   \n",
            "3  ...                     0.739555                    0.003252   \n",
            "4  ...                     0.795016                    0.003878   \n",
            "\n",
            "    No-credit Interval   Gross Profit to Sales  \\\n",
            "0             0.622879                0.601453   \n",
            "1             0.623652                0.610237   \n",
            "2             0.623841                0.601449   \n",
            "3             0.622929                0.583538   \n",
            "4             0.623521                0.598782   \n",
            "\n",
            "    Net Income to Stockholder's Equity   Liability to Equity  \\\n",
            "0                             0.827890              0.290202   \n",
            "1                             0.839969              0.283846   \n",
            "2                             0.836774              0.290189   \n",
            "3                             0.834697              0.281721   \n",
            "4                             0.839973              0.278514   \n",
            "\n",
            "    Degree of Financial Leverage (DFL)  \\\n",
            "0                             0.026601   \n",
            "1                             0.264577   \n",
            "2                             0.026555   \n",
            "3                             0.026697   \n",
            "4                             0.024752   \n",
            "\n",
            "    Interest Coverage Ratio (Interest expense to EBIT)   Net Income Flag  \\\n",
            "0                                           0.564050                   1   \n",
            "1                                           0.570175                   1   \n",
            "2                                           0.563706                   1   \n",
            "3                                           0.564663                   1   \n",
            "4                                           0.575617                   1   \n",
            "\n",
            "    Equity to Liability  \n",
            "0              0.016469  \n",
            "1              0.020794  \n",
            "2              0.016474  \n",
            "3              0.023982  \n",
            "4              0.035490  \n",
            "\n",
            "[5 rows x 96 columns]\n",
            "Bankrupt?                                                   0\n",
            " ROA(C) before interest and depreciation before interest    0\n",
            " ROA(A) before interest and % after tax                     0\n",
            " ROA(B) before interest and depreciation after tax          0\n",
            " Operating Gross Margin                                     0\n",
            "                                                           ..\n",
            " Liability to Equity                                        0\n",
            " Degree of Financial Leverage (DFL)                         0\n",
            " Interest Coverage Ratio (Interest expense to EBIT)         0\n",
            " Net Income Flag                                            0\n",
            " Equity to Liability                                        0\n",
            "Length: 96, dtype: int64\n"
          ]
        }
      ]
    },
    {
      "source": [
        "import matplotlib.pyplot as plt\n",
        "import seaborn as sns\n",
        "\n",
        "\n",
        "print(df.columns)\n",
        "\n",
        "sns.countplot(x='Bankrupt?', data=df)\n",
        "plt.title('Distribution of Bankruptcy')\n",
        "plt.show()\n"
      ],
      "cell_type": "code",
      "metadata": {
        "colab": {
          "base_uri": "https://localhost:8080/",
          "height": 1000
        },
        "id": "jwoOn1N9RgPI",
        "outputId": "43d91301-ab1a-4ede-8793-734f7e85b59d"
      },
      "execution_count": 5,
      "outputs": [
        {
          "output_type": "stream",
          "name": "stdout",
          "text": [
            "Index(['Bankrupt?', ' ROA(C) before interest and depreciation before interest',\n",
            "       ' ROA(A) before interest and % after tax',\n",
            "       ' ROA(B) before interest and depreciation after tax',\n",
            "       ' Operating Gross Margin', ' Realized Sales Gross Margin',\n",
            "       ' Operating Profit Rate', ' Pre-tax net Interest Rate',\n",
            "       ' After-tax net Interest Rate',\n",
            "       ' Non-industry income and expenditure/revenue',\n",
            "       ' Continuous interest rate (after tax)', ' Operating Expense Rate',\n",
            "       ' Research and development expense rate', ' Cash flow rate',\n",
            "       ' Interest-bearing debt interest rate', ' Tax rate (A)',\n",
            "       ' Net Value Per Share (B)', ' Net Value Per Share (A)',\n",
            "       ' Net Value Per Share (C)', ' Persistent EPS in the Last Four Seasons',\n",
            "       ' Cash Flow Per Share', ' Revenue Per Share (Yuan ¥)',\n",
            "       ' Operating Profit Per Share (Yuan ¥)',\n",
            "       ' Per Share Net profit before tax (Yuan ¥)',\n",
            "       ' Realized Sales Gross Profit Growth Rate',\n",
            "       ' Operating Profit Growth Rate', ' After-tax Net Profit Growth Rate',\n",
            "       ' Regular Net Profit Growth Rate', ' Continuous Net Profit Growth Rate',\n",
            "       ' Total Asset Growth Rate', ' Net Value Growth Rate',\n",
            "       ' Total Asset Return Growth Rate Ratio', ' Cash Reinvestment %',\n",
            "       ' Current Ratio', ' Quick Ratio', ' Interest Expense Ratio',\n",
            "       ' Total debt/Total net worth', ' Debt ratio %', ' Net worth/Assets',\n",
            "       ' Long-term fund suitability ratio (A)', ' Borrowing dependency',\n",
            "       ' Contingent liabilities/Net worth',\n",
            "       ' Operating profit/Paid-in capital',\n",
            "       ' Net profit before tax/Paid-in capital',\n",
            "       ' Inventory and accounts receivable/Net value', ' Total Asset Turnover',\n",
            "       ' Accounts Receivable Turnover', ' Average Collection Days',\n",
            "       ' Inventory Turnover Rate (times)', ' Fixed Assets Turnover Frequency',\n",
            "       ' Net Worth Turnover Rate (times)', ' Revenue per person',\n",
            "       ' Operating profit per person', ' Allocation rate per person',\n",
            "       ' Working Capital to Total Assets', ' Quick Assets/Total Assets',\n",
            "       ' Current Assets/Total Assets', ' Cash/Total Assets',\n",
            "       ' Quick Assets/Current Liability', ' Cash/Current Liability',\n",
            "       ' Current Liability to Assets', ' Operating Funds to Liability',\n",
            "       ' Inventory/Working Capital', ' Inventory/Current Liability',\n",
            "       ' Current Liabilities/Liability', ' Working Capital/Equity',\n",
            "       ' Current Liabilities/Equity', ' Long-term Liability to Current Assets',\n",
            "       ' Retained Earnings to Total Assets', ' Total income/Total expense',\n",
            "       ' Total expense/Assets', ' Current Asset Turnover Rate',\n",
            "       ' Quick Asset Turnover Rate', ' Working capitcal Turnover Rate',\n",
            "       ' Cash Turnover Rate', ' Cash Flow to Sales', ' Fixed Assets to Assets',\n",
            "       ' Current Liability to Liability', ' Current Liability to Equity',\n",
            "       ' Equity to Long-term Liability', ' Cash Flow to Total Assets',\n",
            "       ' Cash Flow to Liability', ' CFO to Assets', ' Cash Flow to Equity',\n",
            "       ' Current Liability to Current Assets', ' Liability-Assets Flag',\n",
            "       ' Net Income to Total Assets', ' Total assets to GNP price',\n",
            "       ' No-credit Interval', ' Gross Profit to Sales',\n",
            "       ' Net Income to Stockholder's Equity', ' Liability to Equity',\n",
            "       ' Degree of Financial Leverage (DFL)',\n",
            "       ' Interest Coverage Ratio (Interest expense to EBIT)',\n",
            "       ' Net Income Flag', ' Equity to Liability'],\n",
            "      dtype='object')\n"
          ]
        },
        {
          "output_type": "display_data",
          "data": {
            "text/plain": [
              "<Figure size 640x480 with 1 Axes>"
            ],
            "image/png": "[encoded data removed]"
          },
          "metadata": {}
        }
      ]
    },
    {
      "cell_type": "code",
      "source": [
        "from sklearn.model_selection import train_test_split\n",
        "from sklearn.preprocessing import StandardScaler\n",
        "\n",
        "\n",
        "df.fillna(0, inplace=True)\n",
        "\n",
        "\n",
        "X = df.drop('Bankrupt?', axis=1)\n",
        "y = df['Bankrupt?']\n",
        "\n",
        "# Standardize features\n",
        "scaler = StandardScaler()\n",
        "X_scaled = scaler.fit_transform(X)\n",
        "\n",
        "\n",
        "X_train, X_test, y_train, y_test = train_test_split(X_scaled, y, test_size=0.2, random_state=42)\n"
      ],
      "metadata": {
        "id": "NDAhUYC6Rvmf"
      },
      "execution_count": 6,
      "outputs": []
    },
    {
      "cell_type": "code",
      "source": [
        "from sklearn.linear_model import LogisticRegression\n",
        "from sklearn.metrics import accuracy_score, confusion_matrix\n",
        "\n",
        "\n",
        "model = LogisticRegression(random_state=42)\n",
        "model.fit(X_train, y_train)\n",
        "\n",
        "\n",
        "y_pred = model.predict(X_test)\n",
        "\n",
        "\n",
        "accuracy = accuracy_score(y_test, y_pred)\n",
        "print(f'Accuracy: {accuracy:.2f}')"
      ],
      "metadata": {
        "colab": {
          "base_uri": "https://localhost:8080/"
        },
        "id": "qpL5AhEYSYEw",
        "outputId": "00dfa82a-9d14-4a4b-94a5-c18ce40460cf"
      },
      "execution_count": 7,
      "outputs": [
        {
          "output_type": "stream",
          "name": "stdout",
          "text": [
            "Accuracy: 0.97\n"
          ]
        },
        {
          "output_type": "stream",
          "name": "stderr",
          "text": [
            "/usr/local/lib/python3.10/dist-packages/sklearn/linear_model/_logistic.py:458: ConvergenceWarning: lbfgs failed to converge (status=1):\n",
            "STOP: TOTAL NO. of ITERATIONS REACHED LIMIT.\n",
            "\n",
            "Increase the number of iterations (max_iter) or scale the data as shown in:\n",
            "    https://scikit-learn.org/stable/modules/preprocessing.html\n",
            "Please also refer to the documentation for alternative solver options:\n",
            "    https://scikit-learn.org/stable/modules/linear_model.html#logistic-regression\n",
            "  n_iter_i = _check_optimize_result(\n"
          ]
        }
      ]
    },
    {
      "cell_type": "code",
      "source": [
        "cm = confusion_matrix(y_test, y_pred)\n",
        "plt.figure(figsize=(6, 4))\n",
        "sns.heatmap(cm, annot=True, cmap='Blues', fmt='d', cbar=False)\n",
        "plt.xlabel('Predicted')\n",
        "plt.ylabel('Actual')\n",
        "plt.title('Confusion Matrix')\n",
        "plt.show()"
      ],
      "metadata": {
        "colab": {
          "base_uri": "https://localhost:8080/",
          "height": 410
        },
        "id": "4f-72AL-Sc55",
        "outputId": "59eff354-a40e-4390-c3f8-cfdf9de33f80"
      },
      "execution_count": 8,
      "outputs": [
        {
          "output_type": "display_data",
          "data": {
            "text/plain": [
              "<Figure size 600x400 with 1 Axes>"
            ],
            "image/png": "[encoded data removed]"
          },
          "metadata": {}
        }
      ]
    }
  ]
}